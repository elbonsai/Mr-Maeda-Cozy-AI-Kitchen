{
 "cells": [
  {
   "cell_type": "markdown",
   "metadata": {},
   "source": [
    "# Ben Sheppard: McKinsey's Design Leadership Expert\n",
    "\n",
    "### \"Do we become authentic but simple apes in the face of AI overlords? Perhaps we APES will still have authentic leadership qualities that even the best AI will struggle to match for a while.\" —via [LinkedIn](https://www.linkedin.com/posts/benedictsheppard_generativeai-ai-leadership-activity-7054828376380821504-2wSM?utm_source=share&utm_medium=member_desktop)\n",
    "\n",
    "- **Accountability** - Leaders who embrace AI input, but personally shoulder responsibility for decisions, will be more respected than those who blame technology.\n",
    "- **Presence** - Leaders who disconnect from devices, truly engage with others, and listen intently will foster greater openness and empathy.\n",
    "- **Emotion** - Leaders who openly express their emotions will cultivate a familial atmosphere where others feel comfortable being honest and vulnerable.\n",
    "- **Sparkle** - Leaders who lead companies based on their authentic personal passions and imperfect human obsessions, whether than be cars or make-up, games or food, will inspire and energise those around them\n",
    "\n",
    "### With Ben, we look at the basics of AI *completion* models and how they work at the code level in the context of a fundamental concept in Design Thinking to consciously be customer-centric."
   ]
  },
  {
   "cell_type": "markdown",
   "metadata": {},
   "source": [
    "Instructions for getting cozy with this AI recipe are on the [GitHub page's README](https://aka.ms/CAIK-repo). "
   ]
  },
  {
   "cell_type": "markdown",
   "metadata": {},
   "source": [
    "# 🧑‍🍳 Recipe for AI-driven Design Thinking\n",
    "\n",
    "- ~300 tokens from Pre-trained Foundation Model\n",
    "- 1 list of assorted customer feedback\n",
    "- 1 ready-made \"Design Thinking\" PLUGIN\n",
    " \n",
    "Place customer feedback into an AI pipeline, like with Semantic Kernel. Feed the feedback into a PLUGIN through the automatic templating within the kernel. \n",
    "\n",
    "Using the default settings of the PLUGIN, and drawing upon ~300 tokens ... wait for the result to come out of the kernel. \n",
    "\n",
    "Taste for quality, and then plate appropriately."
   ]
  },
  {
   "cell_type": "markdown",
   "metadata": {},
   "source": [
    "> [!IMPORTANT]\n",
    "> You will need an [.Net 7 SDK](https://dotnet.microsoft.com/en-us/download) and [Polyglot](https://marketplace.visualstudio.com/items?itemName=ms-dotnettools.dotnet-interactive-vscode) to get started with this notebook using .Net Interactive"
   ]
  },
  {
   "cell_type": "markdown",
   "metadata": {},
   "source": [
    "# Gather the core tools 🧰\n",
    "\n",
    "When running the following cell, if asked to \"select your kernel\" (note this will be referring to the Jupyter notebook's kernel and not Semantic Kernel) then choose `.NET Interactive` from the available menu options."
   ]
  },
  {
   "cell_type": "code",
   "execution_count": 1,
   "metadata": {
    "dotnet_interactive": {
     "language": "csharp"
    },
    "polyglot_notebook": {
     "kernelName": "csharp"
    },
    "vscode": {
     "languageId": "polyglot-notebook"
    }
   },
   "outputs": [
    {
     "data": {
      "text/html": [
       "<div><div></div><div></div><div><strong>Installed Packages</strong><ul><li><span>Microsoft.SemanticKernel, 0.20.230821.4-preview</span></li></ul></div></div>"
      ]
     },
     "metadata": {},
     "output_type": "display_data"
    }
   ],
   "source": [
    "// Load some helper functions, e.g. to load values from settings.json\n",
    "#!import ../config/Settings.cs \n",
    "#r \"nuget: Microsoft.SemanticKernel, 0.20.230821.4-preview\""
   ]
  },
  {
   "cell_type": "markdown",
   "metadata": {},
   "source": [
    "# Fire up a kernel 🔥"
   ]
  },
  {
   "cell_type": "code",
   "execution_count": 3,
   "metadata": {
    "dotnet_interactive": {
     "language": "csharp"
    },
    "polyglot_notebook": {
     "kernelName": "csharp"
    },
    "vscode": {
     "languageId": "polyglot-notebook"
    }
   },
   "outputs": [
    {
     "name": "stdout",
     "output_type": "stream",
     "text": [
      "Using 🧱 Model: gpt-4\n"
     ]
    }
   ],
   "source": [
    "using Microsoft.SemanticKernel;\n",
    "using System;\n",
    "using System.Threading.Tasks;\n",
    "\n",
    "var builder = new KernelBuilder();\n",
    "\n",
    "var (useAzureOpenAI, model, azureEndpoint, apiKey, orgId) = Settings.LoadFromFile();\n",
    "\n",
    "model = \"gpt-4\";\n",
    "\n",
    "Console.WriteLine($\"Using 🧱 Model: {model}\");\n",
    "\n",
    "if (useAzureOpenAI)\n",
    "    builder.WithAzureChatCompletionService(model, azureEndpoint, apiKey);\n",
    "else\n",
    "    builder.WithOpenAIChatCompletionService(model, apiKey, orgId);\n",
    "\n",
    "IKernel kernel = builder.Build();"
   ]
  },
  {
   "cell_type": "markdown",
   "metadata": {},
   "source": [
    "# Use one of the 🔌 PLUGINs with 📄 input of your choice"
   ]
  },
  {
   "cell_type": "code",
   "execution_count": 4,
   "metadata": {
    "dotnet_interactive": {
     "language": "csharp"
    },
    "polyglot_notebook": {
     "kernelName": "csharp"
    },
    "vscode": {
     "languageId": "polyglot-notebook"
    }
   },
   "outputs": [
    {
     "name": "stdout",
     "output_type": "stream",
     "text": [
      "| Sentiment | Summary |\n",
      "| :--- | :--- |\n",
      "| Dissatisfaction | Customers are experiencing technical issues with the product, such as the radio not turning on and static interference. |\n",
      "| Frustration | Customers are frustrated because they feel that no one knows how to fix the issues they are experiencing with the product. |\n",
      "| Satisfaction | Customers are pleased with the customer support team, finding them to be nice and presumably helpful. |\n"
     ]
    }
   ],
   "source": [
    "TimeSpan startTime = TimeSpan.FromTicks(DateTime.Now.Ticks);\n",
    "\n",
    "// Load the Skills Directory\n",
    "var pluginsSKDirectory = \"plugins-sk\";\n",
    "\n",
    "// Load the FunSkill from the Skills Directory\n",
    "var dtFunctions = kernel.ImportSemanticSkillFromDirectory(pluginsSKDirectory, \"DesignThinking\");\n",
    "\n",
    "// Run the Function called Joke\n",
    "var result = await dtFunctions[\"EmpathizeTable\"].InvokeAsync(\n",
    "@\"\n",
    "1. Radio won't turn on\n",
    "2. Sputters due to static\n",
    "3. Nice customers support people\n",
    "4. No one knows how to fix it\n",
    "5. Doesn't know what time it is\n",
    "6. Grew up on a house boat\");\n",
    "\n",
    "TimeSpan endTime = TimeSpan.FromTicks(DateTime.Now.Ticks);\n",
    "TimeSpan elapsed = endTime - startTime;\n",
    "\n",
    "// Return the result to the Notebook\n",
    "Console.WriteLine(result);"
   ]
  },
  {
   "cell_type": "markdown",
   "metadata": {},
   "source": [
    "# Plate the finished meal 🍽️"
   ]
  },
  {
   "cell_type": "code",
   "execution_count": 5,
   "metadata": {
    "dotnet_interactive": {
     "language": "csharp"
    },
    "polyglot_notebook": {
     "kernelName": "csharp"
    },
    "vscode": {
     "languageId": "polyglot-notebook"
    }
   },
   "outputs": [
    {
     "data": {
      "text/html": [
       "<h1 id=\"how-are-customers-feeling\">How are customers feeling?</h1>\n",
       "<table>\n",
       "<thead>\n",
       "<tr>\n",
       "<th style=\"text-align: left;\">Sentiment</th>\n",
       "<th style=\"text-align: left;\">Summary</th>\n",
       "</tr>\n",
       "</thead>\n",
       "<tbody>\n",
       "<tr>\n",
       "<td style=\"text-align: left;\">Dissatisfaction</td>\n",
       "<td style=\"text-align: left;\">Customers are experiencing technical issues with the product, such as the radio not turning on and static interference.</td>\n",
       "</tr>\n",
       "<tr>\n",
       "<td style=\"text-align: left;\">Frustration</td>\n",
       "<td style=\"text-align: left;\">Customers are frustrated because they feel that no one knows how to fix the issues they are experiencing with the product.</td>\n",
       "</tr>\n",
       "<tr>\n",
       "<td style=\"text-align: left;\">Satisfaction</td>\n",
       "<td style=\"text-align: left;\">Customers are pleased with the customer support team, finding them to be nice and presumably helpful.</td>\n",
       "</tr>\n",
       "</tbody>\n",
       "</table>\n"
      ]
     },
     "metadata": {},
     "output_type": "display_data"
    }
   ],
   "source": [
    "using Microsoft.AspNetCore.Html;\n",
    "using Markdig;\n",
    "\n",
    "var myPipeline = new MarkdownPipelineBuilder().UseAdvancedExtensions().Build();\n",
    "var myResult2HTML = Markdown.ToHtml(\"# How are customers feeling?\\n\" + result.ToString(), myPipeline);\n",
    "var myHTMLContent = new HtmlContentBuilder();\n",
    "\n",
    "myHTMLContent.AppendHtml(myResult2HTML);\n",
    "myHTMLContent"
   ]
  },
  {
   "cell_type": "markdown",
   "metadata": {},
   "source": [
    "# Check out the science of your cooking 📐"
   ]
  },
  {
   "cell_type": "code",
   "execution_count": 6,
   "metadata": {
    "dotnet_interactive": {
     "language": "csharp"
    },
    "polyglot_notebook": {
     "kernelName": "csharp"
    },
    "vscode": {
     "languageId": "polyglot-notebook"
    }
   },
   "outputs": [
    {
     "name": "stdout",
     "output_type": "stream",
     "text": [
      "🧱 The MODEL used:\n",
      "\n",
      "> gpt-4\n",
      "\n",
      "💸 How many TOKENS were used?\n",
      "\n",
      "[\n",
      "  {\n",
      "    \"CompletionTokens\": 88,\n",
      "    \"PromptTokens\": 157,\n",
      "    \"TotalTokens\": 245\n",
      "  }\n",
      "]\n",
      "\n",
      "⏰ How much TIME did it take?\n",
      "\n",
      "> 6550.7128 ms\n",
      "\n",
      "🌡️ What TEMPERATURE setting was used?\n",
      "\n",
      "> 0 (0 is 🥶 ; 1 is 🥵)\n",
      "\n",
      "🙊 What TOP P setting was used?\n",
      "\n",
      "> 0 (0 is 😑 ; 1 is 🤯)\n"
     ]
    }
   ],
   "source": [
    "using System.Text.Json;\n",
    "\n",
    "var usageresult = result.ModelResults.Select(result => result.GetOpenAIChatResult()?.Usage);\n",
    "var injson = JsonSerializer.Serialize(usageresult, new JsonSerializerOptions { WriteIndented = true });\n",
    "Console.WriteLine($\"🧱 The MODEL used:\\n\\n> {model}\\n\");\n",
    "Console.WriteLine($\"💸 How many TOKENS were used?\\n\\n{injson}\\n\");\n",
    "Console.WriteLine($\"⏰ How much TIME did it take?\\n\\n> {elapsed.TotalMilliseconds} ms\\n\");\n",
    "String functionName = \"EmpathizeTable\";\n",
    "Console.WriteLine($\"🌡️ What TEMPERATURE setting was used?\\n\\n> {dtFunctions[functionName].RequestSettings.Temperature} (0 is 🥶 ; 1 is 🥵)\\n\");\n",
    "Console.WriteLine($\"🙊 What TOP P setting was used?\\n\\n> {dtFunctions[functionName].RequestSettings.TopP} (0 is 😑 ; 1 is 🤯)\");"
   ]
  },
  {
   "cell_type": "markdown",
   "metadata": {},
   "source": [
    "# Let's do a little more cooking ⚗️\n",
    "\n",
    "![](../assets/designthinking.png)"
   ]
  },
  {
   "cell_type": "code",
   "execution_count": 7,
   "metadata": {
    "dotnet_interactive": {
     "language": "csharp"
    },
    "polyglot_notebook": {
     "kernelName": "csharp"
    },
    "vscode": {
     "languageId": "polyglot-notebook"
    }
   },
   "outputs": [
    {
     "data": {
      "text/html": [
       "<h1 id=\"result\">Result</h1>\n",
       "<table>\n",
       "<thead>\n",
       "<tr>\n",
       "<th style=\"text-align: left;\">Analysis</th>\n",
       "<th style=\"text-align: left;\">Definition</th>\n",
       "<th style=\"text-align: left;\">Possible Source</th>\n",
       "</tr>\n",
       "</thead>\n",
       "<tbody>\n",
       "<tr>\n",
       "<td style=\"text-align: left;\">Product Malfunction</td>\n",
       "<td style=\"text-align: left;\">Customers are experiencing issues with the product not working as expected, particularly with the power button and display screen.</td>\n",
       "<td style=\"text-align: left;\">This could be due to manufacturing defects or design flaws in the product.</td>\n",
       "</tr>\n",
       "<tr>\n",
       "<td style=\"text-align: left;\">Poor Customer Service</td>\n",
       "<td style=\"text-align: left;\">Customers are not satisfied with the level of service they are receiving, particularly in terms of response times via email and phone.</td>\n",
       "<td style=\"text-align: left;\">This could be due to understaffing, inadequate training, or inefficient customer service processes.</td>\n",
       "</tr>\n",
       "<tr>\n",
       "<td style=\"text-align: left;\">Product Durability</td>\n",
       "<td style=\"text-align: left;\">Customers are dissatisfied with the lifespan and robustness of the product, particularly the power button and display screen.</td>\n",
       "<td style=\"text-align: left;\">This could be due to the use of low-quality materials or poor manufacturing processes.</td>\n",
       "</tr>\n",
       "<tr>\n",
       "<td style=\"text-align: left;\">Lack of Responsiveness</td>\n",
       "<td style=\"text-align: left;\">Customers are disappointed with the lack of response from customer service via email and phone.</td>\n",
       "<td style=\"text-align: left;\">This could be due to high volume of customer inquiries, understaffing, or inefficient customer service processes.</td>\n",
       "</tr>\n",
       "<tr>\n",
       "<td style=\"text-align: left;\">Warranty Issues</td>\n",
       "<td style=\"text-align: left;\">Customers are annoyed by the problems they are facing with their product while it's still under warranty.</td>\n",
       "<td style=\"text-align: left;\">This could be due to unclear warranty policies, poor communication, or inefficient warranty claim processes.</td>\n",
       "</tr>\n",
       "</tbody>\n",
       "</table>\n"
      ]
     },
     "metadata": {},
     "output_type": "display_data"
    }
   ],
   "source": [
    "var input = @\"\n",
    "Customer 1: The power button on my phone is broken. The warranty is still valid.\n",
    "Customer 2: My display stopped working.\n",
    "Customer 3: The customer service rep didn't answer my email.\n",
    "Customer 4: Every time I call customer support I get no answer.\n",
    "Customer 5: The display screen cracked and it's still under warranty.\n",
    "Customer 6: My power button fell off the phone. That's ridiculous.\n",
    "Customer 7: I'm so frustrated with this company.\n",
    "Customer 8: When I use the power button too much, it stops working.\n",
    "\";\n",
    "\n",
    "var myResult = await kernel.RunAsync(input, dtFunctions[\"Empathize\"], dtFunctions[\"Define\"]);\n",
    "\n",
    "var myPipeline = new MarkdownPipelineBuilder().UseAdvancedExtensions().Build();\n",
    "var myResult2HTML = Markdown.ToHtml(\"# Result\\n\" + myResult.ToString(), myPipeline);\n",
    "var myHTMLContent = new HtmlContentBuilder();\n",
    "\n",
    "myHTMLContent.AppendHtml(myResult2HTML);\n",
    "myHTMLContent"
   ]
  },
  {
   "cell_type": "code",
   "execution_count": 8,
   "metadata": {
    "dotnet_interactive": {
     "language": "csharp"
    },
    "polyglot_notebook": {
     "kernelName": "csharp"
    },
    "vscode": {
     "languageId": "polyglot-notebook"
    }
   },
   "outputs": [
    {
     "name": "stdout",
     "output_type": "stream",
     "text": [
      "🧱 The MODEL used:\n",
      "\n",
      "> gpt-4\n",
      "\n"
     ]
    }
   ],
   "source": [
    "Console.WriteLine($\"🧱 The MODEL used:\\n\\n> {model}\\n\");"
   ]
  }
 ],
 "metadata": {
  "language_info": {
   "name": "python"
  },
  "orig_nbformat": 4
 },
 "nbformat": 4,
 "nbformat_minor": 2
}
